{
 "cells": [
  {
   "cell_type": "code",
   "execution_count": 7,
   "metadata": {},
   "outputs": [],
   "source": [
    "# Import Python packages \n",
    "import pandas as pd\n",
    "import cassandra\n",
    "import re\n",
    "import os\n",
    "import glob\n",
    "import numpy as np\n",
    "import json\n",
    "import csv"
   ]
  },
  {
   "cell_type": "markdown",
   "metadata": {},
   "source": [
    "Creating list of filepaths to process original event csv data files"
   ]
  },
  {
   "cell_type": "code",
   "execution_count": 8,
   "metadata": {},
   "outputs": [
    {
     "name": "stdout",
     "output_type": "stream",
     "text": [
      "c:\\Users\\Leon\\Desktop\\ETL_Cassandra\n"
     ]
    }
   ],
   "source": [
    "# checking your current working directory\n",
    "print(os.getcwd())\n",
    "\n",
    "# Get your current folder and subfolder event data\n",
    "filepath = os.getcwd() + '/event_data'\n",
    "\n",
    "# Create a for loop to create a list of files and collect each filepath\n",
    "for root, dirs, files in os.walk(filepath):\n",
    "    \n",
    "# join the file path and roots with the subdirectories using glob\n",
    "    file_path_list = glob.glob(os.path.join(root,'*'))\n",
    "    #print(file_path_list)"
   ]
  },
  {
   "cell_type": "markdown",
   "metadata": {},
   "source": [
    "Processing the files to create the data file csv that will be used for Apache Casssandra tables"
   ]
  },
  {
   "cell_type": "code",
   "execution_count": 9,
   "metadata": {},
   "outputs": [
    {
     "ename": "NameError",
     "evalue": "name 'file_path_list' is not defined",
     "output_type": "error",
     "traceback": [
      "\u001b[1;31m---------------------------------------------------------------------------\u001b[0m",
      "\u001b[1;31mNameError\u001b[0m                                 Traceback (most recent call last)",
      "Cell \u001b[1;32mIn[9], line 5\u001b[0m\n\u001b[0;32m      2\u001b[0m full_data_rows_list \u001b[38;5;241m=\u001b[39m [] \n\u001b[0;32m      4\u001b[0m \u001b[38;5;66;03m# for every filepath in the file path list \u001b[39;00m\n\u001b[1;32m----> 5\u001b[0m \u001b[38;5;28;01mfor\u001b[39;00m f \u001b[38;5;129;01min\u001b[39;00m file_path_list:\n\u001b[0;32m      6\u001b[0m \n\u001b[0;32m      7\u001b[0m \u001b[38;5;66;03m# reading csv file     \u001b[39;00m\n\u001b[0;32m      8\u001b[0m     \u001b[38;5;28;01mwith\u001b[39;00m \u001b[38;5;28mopen\u001b[39m(f, \u001b[38;5;124m'\u001b[39m\u001b[38;5;124mr\u001b[39m\u001b[38;5;124m'\u001b[39m, encoding \u001b[38;5;241m=\u001b[39m \u001b[38;5;124m'\u001b[39m\u001b[38;5;124mutf8\u001b[39m\u001b[38;5;124m'\u001b[39m, newline\u001b[38;5;241m=\u001b[39m\u001b[38;5;124m'\u001b[39m\u001b[38;5;124m'\u001b[39m) \u001b[38;5;28;01mas\u001b[39;00m csvfile: \n\u001b[0;32m      9\u001b[0m         \u001b[38;5;66;03m# creating a csv reader object \u001b[39;00m\n\u001b[0;32m     10\u001b[0m         csvreader \u001b[38;5;241m=\u001b[39m csv\u001b[38;5;241m.\u001b[39mreader(csvfile) \n",
      "\u001b[1;31mNameError\u001b[0m: name 'file_path_list' is not defined"
     ]
    }
   ],
   "source": [
    "# initiating an empty list of rows that will be generated from each file\n",
    "full_data_rows_list = [] \n",
    "    \n",
    "# for every filepath in the file path list \n",
    "for f in file_path_list:\n",
    "\n",
    "# reading csv file     \n",
    "    with open(f, 'r', encoding = 'utf8', newline='') as csvfile: \n",
    "        # creating a csv reader object \n",
    "        csvreader = csv.reader(csvfile) \n",
    "        next(csvreader)\n",
    "        \n",
    " # extracting each data row one by one and append it        \n",
    "        for line in csvreader:\n",
    "            #print(line)\n",
    "            full_data_rows_list.append(line) \n",
    "            \n",
    "# uncomment the code below if you would like to get total number of rows \n",
    "print(len(full_data_rows_list))\n",
    "# uncomment the code below if you would like to check to see what the list of event data rows will look like\n",
    "#print(full_data_rows_list)\n",
    "\n",
    "# creating a smaller event data csv file called event_datafile_full csv that will be used to insert data into the \\\n",
    "# Apache Cassandra tables\n",
    "csv.register_dialect('myDialect', quoting=csv.QUOTE_ALL, skipinitialspace=True)\n",
    "\n",
    "with open('event_datafile_new.csv', 'w', encoding = 'utf8', newline='') as f:\n",
    "    writer = csv.writer(f, dialect='myDialect')\n",
    "    writer.writerow(['artist','firstName','gender','itemInSession','lastName','length',\\\n",
    "                'level','location','sessionId','song','userId'])\n",
    "    for row in full_data_rows_list:\n",
    "        if (row[0] == ''):\n",
    "            continue\n",
    "        writer.writerow((row[0], row[2], row[3], row[4], row[5], row[6], row[7], row[8], row[12], row[13], row[16]))"
   ]
  },
  {
   "cell_type": "code",
   "execution_count": null,
   "metadata": {},
   "outputs": [],
   "source": [
    "# check the number of rows in your csv file\n",
    "with open('event_datafile_new.csv', 'r', encoding = 'utf8') as f:\n",
    "    print(sum(1 for line in f))"
   ]
  },
  {
   "cell_type": "markdown",
   "metadata": {},
   "source": [
    "Creating a Cluster"
   ]
  },
  {
   "cell_type": "code",
   "execution_count": null,
   "metadata": {},
   "outputs": [],
   "source": [
    "# This should make a connection to a Cassandra instance your local machine \n",
    "# (127.0.0.1)\n",
    "\n",
    "from cassandra.cluster import Cluster\n",
    "cluster = Cluster(['127.0.0.1']) # Cassandra locally installed on the workspace\n",
    "\n",
    "# To establish connection and begin executing queries, need a session\n",
    "session = cluster.connect()"
   ]
  },
  {
   "cell_type": "markdown",
   "metadata": {},
   "source": [
    "Create Keyspace"
   ]
  },
  {
   "cell_type": "code",
   "execution_count": null,
   "metadata": {},
   "outputs": [],
   "source": [
    "try:\n",
    "    session.execute(\"\"\"\n",
    "    CREATE KEYSPACE IF NOT EXISTS udacity \n",
    "    WITH REPLICATION = \n",
    "    { 'class' : 'SimpleStrategy', 'replication_factor' : 1 }\"\"\"\n",
    ")\n",
    "\n",
    "except Exception as e:\n",
    "    print(e)"
   ]
  },
  {
   "cell_type": "markdown",
   "metadata": {},
   "source": [
    "Set Keyspace"
   ]
  },
  {
   "cell_type": "code",
   "execution_count": null,
   "metadata": {},
   "outputs": [],
   "source": [
    "try:\n",
    "    session.set_keyspace('udacity')\n",
    "except Exception as e:\n",
    "    print(e)"
   ]
  },
  {
   "cell_type": "markdown",
   "metadata": {},
   "source": [
    "Now we need to create tables to run the following queries. Remember, with Apache Cassandra you model the database tables on the queries you want to run.\n",
    "Create queries to ask the following three questions of the data\n",
    "1. Give me the artist, song title and song's length in the music app history that was heard during sessionId = 338, and itemInSession = 4\n",
    "2. Give me only the following: name of artist, song (sorted by itemInSession) and user (first and last name) for userid = 10, sessionid = 182\n",
    "3. Give me every user name (first and last) in my music app history who listened to the song 'All Hands Against His Own'"
   ]
  },
  {
   "cell_type": "code",
   "execution_count": null,
   "metadata": {},
   "outputs": [],
   "source": [
    "#Here we are going to model our table after the following query\n",
    "#query = \"SELECT * FROM table WHERE sessionid =338 and WHERE itemInSession = 4\"\n",
    "# as we see sessionid and iteminsession uniquely identifies our results\n",
    "# we therefore are going to use them as our primary key\n",
    "\n",
    "query = \"CREATE TABLE IF NOT EXISTS artist_song_length (\\\n",
    "        sessionid int,\\\n",
    "        itemInSession int,\\\n",
    "        artist text,\\\n",
    "        song_name text,\\\n",
    "        song_length float,\\\n",
    "        ,PRIMARY KEY(sessionid,itemInSession))\"\n",
    "\n",
    "try:\n",
    "    session.execute(query)\n",
    "except Exception as e:\n",
    "    print(e)  "
   ]
  },
  {
   "cell_type": "code",
   "execution_count": null,
   "metadata": {},
   "outputs": [],
   "source": [
    "# loading data into artist_song_length\n",
    "file = 'event_datafile_new.csv'\n",
    "\n",
    "with open(file, encoding = 'utf8') as f:\n",
    "    csvreader = csv.reader(f)\n",
    "    next(csvreader) # skip header\n",
    "    for line in csvreader:\n",
    "        query = \"INSERT INTO artist_song_length (sessionid, itemInSession,artist, song_name,song_length)\"\n",
    "        query = query + \"VALUES (%s,%s,%s,%s,%s)\"\n",
    "        session.execute(query, (int(line[8]),int(line[3]),line[0], line[9],float(line[5])))"
   ]
  },
  {
   "cell_type": "markdown",
   "metadata": {},
   "source": [
    "Do a SELECT to verify that the data have been inserted into each table"
   ]
  },
  {
   "cell_type": "code",
   "execution_count": null,
   "metadata": {},
   "outputs": [],
   "source": [
    "## testing our table artist_song_length\n",
    "\n",
    "query  = \"SELECT artist,song_name, song_length FROM artist_song_length WHERE sessionid = 338 AND itemInSession = 4 \"\n",
    "try:\n",
    "    rows=session.execute(query)\n",
    "except Exception as e:\n",
    "        print(e)\n",
    "        \n",
    "for row in rows:\n",
    "    print(\"Artist:\",row.artist,\"Song Name:\", row.song_name,\"Length:\",row.song_length)"
   ]
  },
  {
   "cell_type": "code",
   "execution_count": null,
   "metadata": {},
   "outputs": [],
   "source": [
    "#Here we want to model our table after the following query\n",
    "#query = \"SELECT artist_name, song_name, user_firstname, user_lastname FROM table2 WHERE userid =10 and sessionid =182\"\n",
    "# We are going to use userid and sessionid as primary key as this obviously identifies our values we ask for\n",
    "query =\"CREATE TABLE IF NOT EXISTS artist_song_user (itemInSession int,\\\n",
    "            userId int,\\\n",
    "            sessionId int,\\\n",
    "            artist text,\\\n",
    "            song_name text,\\\n",
    "            song_length float,\\\n",
    "            user_firstname text,\\\n",
    "            user_lastname text,\\\n",
    "            PRIMARY KEY((itemInSession,userId,sessionId)))\"\n",
    "\n",
    "try:\n",
    "    session.execute(query)\n",
    "except Exception as e:\n",
    "    print(e) "
   ]
  },
  {
   "cell_type": "code",
   "execution_count": null,
   "metadata": {},
   "outputs": [],
   "source": [
    "\n",
    "with open(file, encoding = 'utf8') as f:\n",
    "     csvreader = csv.reader(f)\n",
    "     next(csvreader) # skip header\n",
    "     for line in csvreader:\n",
    "         query = \"INSERT INTO artist_song_user (itemInSession,userId,sessionID,artist, song_name,song_length,user_firstname,user_lastname)\"\n",
    "         query = query + \"VALUES (%s,%s,%s,%s,%s,%s,%s,%s)\"\n",
    "         session.execute(query, (int(line[3]),int(line[10]),int(line[8]),line[0],line[9],float(line[5]),line[1],line[4]))\n",
    "            \n",
    "test_query = \"SELECT artist, song_name, user_firstname, user_lastname FROM artist_song_user WHERE userid =10 \\\n",
    "                AND sessionid =182\"\n",
    "\n",
    "try:\n",
    "     rows = session.execute(test_query)\n",
    "except Exception as e:\n",
    "     print(e)\n",
    "\n",
    "for row in rows:\n",
    "     print(\"Artist:\",row.artist,\"Song\", row.song_name, \"First Name:\", row.user_firstname,\"last name:\",row.user_lastname)"
   ]
  },
  {
   "cell_type": "code",
   "execution_count": null,
   "metadata": {},
   "outputs": [],
   "source": [
    "#creating our table user_name to get the results for the following query\n",
    "#query = \"SELECT user_firstname, user_lastname FROM user_name WHERE song_name = 'All Hands Against' \"\n",
    "#here our primary key has to consist of the song_name and an identifier for the user\n",
    "#to only user one additional key we can choose userid\n",
    "\n",
    "query = \"CREATE TABLE IF NOT EXISTS user_name (song_name text,userid int, artist text, user_firstname text,user_lastname text,\\\n",
    "        sessionid int, PRIMARY KEY(song_name,userid))\"\n",
    "\n",
    "try:\n",
    "    session.execute(query)\n",
    "except Exception as e:\n",
    "    print(e)"
   ]
  },
  {
   "cell_type": "code",
   "execution_count": null,
   "metadata": {},
   "outputs": [],
   "source": [
    "# Inserting data into the user_name table as before\n",
    "\n",
    "with open(file, encoding = 'utf8') as f:\n",
    "     csvreader = csv.reader(f)\n",
    "     next(csvreader) # skip header\n",
    "     for line in csvreader:\n",
    "         query = \"INSERT INTO user_name (song_name,\\\n",
    "                                         userid,\\\n",
    "                                        artist,\\\n",
    "                                        user_firstname,\\\n",
    "                                        user_lastname,\\\n",
    "                                         sessionId)\"\n",
    "         query = query + \"VALUES (%s,%s,%s,%s,%s,%s)\"\n",
    "        \n",
    "         session.execute(query, (line[9],int(line[10]), line[0],line[1],line[4],int(line[8])))"
   ]
  },
  {
   "cell_type": "code",
   "execution_count": null,
   "metadata": {},
   "outputs": [],
   "source": [
    "#testing our table with our query\n",
    "test_query = \"SELECT user_firstname,user_lastname FROM user_name WHERE song_name = 'All Hands Against' \"\n",
    "try:\n",
    "    rows = session.execute(test_query)\n",
    "except Exception as e:\n",
    "    print(e)\n",
    "for row in rows:\n",
    "    print(row)"
   ]
  },
  {
   "cell_type": "code",
   "execution_count": null,
   "metadata": {},
   "outputs": [],
   "source": [
    "#dropping all our tables\n",
    "query1 = \"DROP TABLE artist_song_length\"\n",
    "query2 = \"DROP TABLE artist_song_user\"\n",
    "query3 = \"DROP TABLE user_name\"\n",
    "\n",
    "try:\n",
    "    session.execute(query1)\n",
    "except Exception as e:\n",
    "    print(e)\n",
    "\n",
    "try:\n",
    "    session.execute(query2)\n",
    "except Exception as e:\n",
    "    print(e)\n",
    "try:\n",
    "    session.execute(query3)\n",
    "except Exception as e:\n",
    "    print(e)"
   ]
  },
  {
   "cell_type": "markdown",
   "metadata": {},
   "source": [
    "Close the session and cluster connection"
   ]
  },
  {
   "cell_type": "code",
   "execution_count": null,
   "metadata": {},
   "outputs": [],
   "source": [
    "session.shutdown()\n",
    "cluster.shutdown()"
   ]
  }
 ],
 "metadata": {
  "kernelspec": {
   "display_name": "base",
   "language": "python",
   "name": "python3"
  },
  "language_info": {
   "codemirror_mode": {
    "name": "ipython",
    "version": 3
   },
   "file_extension": ".py",
   "mimetype": "text/x-python",
   "name": "python",
   "nbconvert_exporter": "python",
   "pygments_lexer": "ipython3",
   "version": "3.11.5"
  }
 },
 "nbformat": 4,
 "nbformat_minor": 2
}
